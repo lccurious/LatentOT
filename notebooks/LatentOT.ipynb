{
 "cells": [
  {
   "cell_type": "code",
   "execution_count": 1,
   "metadata": {
    "ExecuteTime": {
     "end_time": "2021-01-26T15:52:20.533556Z",
     "start_time": "2021-01-26T15:52:11.591347Z"
    }
   },
   "outputs": [],
   "source": [
    "import torch\n",
    "import numpy as np\n",
    "import matplotlib.pyplot as plt\n",
    "from sklearn.datasets import make_blobs\n",
    "from scipy.stats import wishart, chi2"
   ]
  },
  {
   "cell_type": "code",
   "execution_count": 2,
   "metadata": {
    "ExecuteTime": {
     "end_time": "2021-01-26T15:52:20.539219Z",
     "start_time": "2021-01-26T15:52:20.536827Z"
    }
   },
   "outputs": [],
   "source": [
    "import sys\n",
    "sys.path.append('../lot')"
   ]
  },
  {
   "cell_type": "markdown",
   "metadata": {},
   "source": [
    "# Synthetic Data"
   ]
  },
  {
   "cell_type": "markdown",
   "metadata": {},
   "source": [
    "## GMM Wishart distribution"
   ]
  },
  {
   "cell_type": "code",
   "execution_count": 3,
   "metadata": {
    "ExecuteTime": {
     "end_time": "2021-01-26T15:52:20.547813Z",
     "start_time": "2021-01-26T15:52:20.542268Z"
    }
   },
   "outputs": [],
   "source": [
    "from utils import generate_gmm_data, kmeans\n",
    "from latentot import LatentOT"
   ]
  },
  {
   "cell_type": "code",
   "execution_count": 4,
   "metadata": {
    "ExecuteTime": {
     "end_time": "2021-01-26T15:52:20.557622Z",
     "start_time": "2021-01-26T15:52:20.549645Z"
    }
   },
   "outputs": [],
   "source": [
    "X = generate_gmm_data(n_components=3, n_dimensions=2).float()\n",
    "Y = generate_gmm_data(n_components=3, n_dimensions=2).float()"
   ]
  },
  {
   "cell_type": "code",
   "execution_count": 5,
   "metadata": {
    "ExecuteTime": {
     "end_time": "2021-01-26T15:52:20.562144Z",
     "start_time": "2021-01-26T15:52:20.559351Z"
    }
   },
   "outputs": [
    {
     "name": "stdout",
     "output_type": "stream",
     "text": [
      "torch.Size([300, 2])\n"
     ]
    }
   ],
   "source": [
    "print(X.shape)"
   ]
  },
  {
   "cell_type": "code",
   "execution_count": 6,
   "metadata": {
    "ExecuteTime": {
     "end_time": "2021-01-26T15:52:20.567049Z",
     "start_time": "2021-01-26T15:52:20.564110Z"
    }
   },
   "outputs": [],
   "source": [
    "lot = LatentOT(X, Y, 4, 4, 5, 5, 5)"
   ]
  },
  {
   "cell_type": "code",
   "execution_count": 7,
   "metadata": {
    "ExecuteTime": {
     "end_time": "2021-01-26T15:52:36.564574Z",
     "start_time": "2021-01-26T15:52:20.570251Z"
    },
    "scrolled": false
   },
   "outputs": [
    {
     "name": "stderr",
     "output_type": "stream",
     "text": [
      "  0%|          | 5/1000 [00:00<00:20, 48.55it/s]"
     ]
    },
    {
     "name": "stdout",
     "output_type": "stream",
     "text": [
      "running k-means on cpu..\n",
      "running k-means on cpu..\n"
     ]
    },
    {
     "name": "stderr",
     "output_type": "stream",
     "text": [
      "100%|██████████| 1000/1000 [00:15<00:00, 62.63it/s]\n"
     ]
    }
   ],
   "source": [
    "px, py, pz, zx, zy = lot.fit(max_iter=1000)"
   ]
  },
  {
   "cell_type": "code",
   "execution_count": 8,
   "metadata": {
    "ExecuteTime": {
     "end_time": "2021-01-26T15:52:36.741705Z",
     "start_time": "2021-01-26T15:52:36.567077Z"
    }
   },
   "outputs": [
    {
     "data": {
      "text/plain": [
       "(-13.149338436126708,\n",
       " 15.841028881072997,\n",
       " -14.699902200698853,\n",
       " 10.445474290847779)"
      ]
     },
     "execution_count": 8,
     "metadata": {},
     "output_type": "execute_result"
    },
    {
     "data": {
      "image/png": "[encoded data removed]",
      "text/plain": [
       "<Figure size 720x720 with 1 Axes>"
      ]
     },
     "metadata": {
      "needs_background": "light"
     },
     "output_type": "display_data"
    }
   ],
   "source": [
    "fig, ax = plt.subplots(1, 1, figsize=(10, 10))\n",
    "ax.scatter(X[:, 0], X[:, 1], c='b')\n",
    "ax.scatter(Y[:, 0], Y[:, 1], c='r')\n",
    "ax.scatter(zx[:, 0], zx[:, 1], c='y', marker='^')\n",
    "ax.scatter(zy[:, 0], zy[:, 1], c='g', marker='^')\n",
    "ax.axis('equal')"
   ]
  },
  {
   "cell_type": "code",
   "execution_count": null,
   "metadata": {},
   "outputs": [],
   "source": []
  }
 ],
 "metadata": {
  "kernelspec": {
   "display_name": "Python 3",
   "language": "python",
   "name": "python3"
  },
  "language_info": {
   "codemirror_mode": {
    "name": "ipython",
    "version": 3
   },
   "file_extension": ".py",
   "mimetype": "text/x-python",
   "name": "python",
   "nbconvert_exporter": "python",
   "pygments_lexer": "ipython3",
   "version": "3.8.3"
  },
  "toc": {
   "base_numbering": 1,
   "nav_menu": {},
   "number_sections": true,
   "sideBar": true,
   "skip_h1_title": false,
   "title_cell": "Table of Contents",
   "title_sidebar": "Contents",
   "toc_cell": false,
   "toc_position": {},
   "toc_section_display": true,
   "toc_window_display": false
  }
 },
 "nbformat": 4,
 "nbformat_minor": 1
}
